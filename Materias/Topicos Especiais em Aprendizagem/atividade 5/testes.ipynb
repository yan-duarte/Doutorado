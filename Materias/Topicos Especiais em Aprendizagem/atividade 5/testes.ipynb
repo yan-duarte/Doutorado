{
 "cells": [
  {
   "cell_type": "code",
   "execution_count": 1,
   "metadata": {
    "collapsed": false
   },
   "outputs": [],
   "source": [
    "from random import seed\n",
    "import redeneural as rn"
   ]
  },
  {
   "cell_type": "code",
   "execution_count": 2,
   "metadata": {
    "collapsed": false
   },
   "outputs": [],
   "source": [
    "seed(1)\n",
    "\n",
    "# Carrega dados de treinamento e de teste do arquivo txt.\n",
    "treinamento = rn.carregar_txt('dataset/zip.train.txt', 1, 0)\n",
    "teste = rn.carregar_txt('dataset/zip.test.txt', 1, 0)\n",
    "\n",
    "teste_y = list()\n",
    "for i in range(len(teste)):\n",
    "    teste_y.append(teste[i][-1])"
   ]
  },
  {
   "cell_type": "code",
   "execution_count": 3,
   "metadata": {
    "collapsed": false
   },
   "outputs": [
    {
     "name": "stdout",
     "output_type": "stream",
     "text": [
      "Acuracia: 98.876%\n"
     ]
    }
   ],
   "source": [
    "taxa_aprendizado = 0.5\n",
    "num_epocas = 5\n",
    "num_escondidas = 30\n",
    "\n",
    "predito = rn.back_propagation(treinamento, teste, taxa_aprendizado, num_epocas, num_escondidas )\n",
    "acuracia = rn.acuracia(teste_y, predito)\n",
    "\n",
    "print('Acuracia: %.3f%%' % acuracia)"
   ]
  },
  {
   "cell_type": "code",
   "execution_count": 4,
   "metadata": {
    "collapsed": false
   },
   "outputs": [
    {
     "name": "stdout",
     "output_type": "stream",
     "text": [
      "Acuracia: 99.197%\n"
     ]
    }
   ],
   "source": [
    "taxa_aprendizado = 0.3\n",
    "num_epocas = 10\n",
    "num_escondidas = 15\n",
    "\n",
    "predito = rn.back_propagation(treinamento, teste, taxa_aprendizado, num_epocas, num_escondidas )\n",
    "acuracia = rn.acuracia(teste_y, predito)\n",
    "\n",
    "print('Acuracia: %.3f%%' % acuracia)"
   ]
  },
  {
   "cell_type": "code",
   "execution_count": 5,
   "metadata": {
    "collapsed": false
   },
   "outputs": [
    {
     "name": "stdout",
     "output_type": "stream",
     "text": [
      "Acuracia: 98.716%\n"
     ]
    }
   ],
   "source": [
    "taxa_aprendizado = 0.7\n",
    "num_epocas = 3\n",
    "num_escondidas = 10\n",
    "\n",
    "predito = rn.back_propagation(treinamento, teste, taxa_aprendizado, num_epocas, num_escondidas )\n",
    "acuracia = rn.acuracia(teste_y, predito)\n",
    "\n",
    "print('Acuracia: %.3f%%' % acuracia)"
   ]
  }
 ],
 "metadata": {
  "kernelspec": {
   "display_name": "Python 3",
   "language": "python",
   "name": "python3"
  },
  "language_info": {
   "codemirror_mode": {
    "name": "ipython",
    "version": 3
   },
   "file_extension": ".py",
   "mimetype": "text/x-python",
   "name": "python",
   "nbconvert_exporter": "python",
   "pygments_lexer": "ipython3",
   "version": "3.6.0"
  }
 },
 "nbformat": 4,
 "nbformat_minor": 2
}
