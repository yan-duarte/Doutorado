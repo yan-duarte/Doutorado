{
 "cells": [
  {
   "cell_type": "code",
   "execution_count": 1,
   "metadata": {
    "collapsed": false
   },
   "outputs": [
    {
     "data": {
      "image/png": "[encoded data removed]",
      "text/plain": [
       "<matplotlib.figure.Figure at 0x19f68245a90>"
      ]
     },
     "metadata": {},
     "output_type": "display_data"
    }
   ],
   "source": [
    "import numpy as np\n",
    "import matplotlib.pyplot as plt\n",
    "\n",
    "X = np.array([\n",
    "    [3.4, 5.2],\n",
    "    [1.9, 7.3],\n",
    "    [3.4, 7.5],\n",
    "    [2.5, 6.8],\n",
    "    [1.5, 6.5],\n",
    "    [3.5, 6.4],\n",
    "    [2.2, 5.8 ],\n",
    "    [1, 1],\n",
    "    [1, 2.7],\n",
    "    [1.9, 2.4],\n",
    "    [0.8, 2],\n",
    "    [1.6, 1.8],\n",
    "    [1.9, 3],\n",
    "    [3.6, 4],\n",
    "    [5, 3.2],\n",
    "    [4.5, 2.4],\n",
    "    [6, 2.6]\n",
    "])\n",
    "\n",
    "y = np.array([\n",
    "    0,\n",
    "    0,\n",
    "    0,\n",
    "    0,\n",
    "    0,\n",
    "    0,\n",
    "    0,\n",
    "    1,\n",
    "    1,\n",
    "    1,\n",
    "    1,\n",
    "    1,\n",
    "    1,\n",
    "    2,\n",
    "    2,\n",
    "    2,\n",
    "    2\n",
    "])\n",
    "\n",
    "\n",
    "centers = np.array([\n",
    "    [2.62857, 6.5],\n",
    "    [1.36667, 2.15],\n",
    "    [4.775, 3.05]\n",
    "])\n",
    "\n",
    "plt.scatter(X[:, 0], X[:, 1], c=y, s=50, cmap='viridis')\n",
    "\n",
    "\n",
    "plt.scatter(centers[:, 0], centers[:, 1], c='black', s=200, alpha=0.5)\n",
    "plt.show()"
   ]
  },
  {
   "cell_type": "code",
   "execution_count": null,
   "metadata": {
    "collapsed": true
   },
   "outputs": [],
   "source": []
  }
 ],
 "metadata": {
  "kernelspec": {
   "display_name": "Python 3",
   "language": "python",
   "name": "python3"
  },
  "language_info": {
   "codemirror_mode": {
    "name": "ipython",
    "version": 3
   },
   "file_extension": ".py",
   "mimetype": "text/x-python",
   "name": "python",
   "nbconvert_exporter": "python",
   "pygments_lexer": "ipython3",
   "version": "3.6.0"
  }
 },
 "nbformat": 4,
 "nbformat_minor": 2
}
